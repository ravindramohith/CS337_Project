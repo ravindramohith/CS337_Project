{
 "cells": [
  {
   "cell_type": "code",
   "execution_count": 14,
   "metadata": {},
   "outputs": [
    {
     "name": "stderr",
     "output_type": "stream",
     "text": [
      "[nltk_data] Downloading package punkt to /home/loki/nltk_data...\n",
      "[nltk_data]   Package punkt is already up-to-date!\n"
     ]
    }
   ],
   "source": [
    "from sklearn.feature_extraction.text import CountVectorizer\n",
    "from sklearn.model_selection import train_test_split\n",
    "from sklearn.metrics.pairwise import cosine_similarity\n",
    "import matplotlib.pyplot as plt\n",
    "import pandas as pd\n",
    "import numpy as np\n",
    "import nltk\n",
    "import torch\n",
    "import torch.nn as nn\n",
    "import torch.nn.functional as F\n",
    "from torch.autograd import Variable\n",
    "import torchvision\n",
    "from nltk.translate.bleu_score import corpus_bleu\n",
    "import time\n",
    "import re\n",
    "\n",
    "nltk.download('punkt') \n",
    "from nltk.tokenize import word_tokenize"
   ]
  },
  {
   "cell_type": "code",
   "execution_count": 15,
   "metadata": {},
   "outputs": [
    {
     "data": {
      "text/html": [
       "<div>\n",
       "<style scoped>\n",
       "    .dataframe tbody tr th:only-of-type {\n",
       "        vertical-align: middle;\n",
       "    }\n",
       "\n",
       "    .dataframe tbody tr th {\n",
       "        vertical-align: top;\n",
       "    }\n",
       "\n",
       "    .dataframe thead th {\n",
       "        text-align: right;\n",
       "    }\n",
       "</style>\n",
       "<table border=\"1\" class=\"dataframe\">\n",
       "  <thead>\n",
       "    <tr style=\"text-align: right;\">\n",
       "      <th></th>\n",
       "      <th>English</th>\n",
       "      <th>Hindi</th>\n",
       "      <th>Original</th>\n",
       "    </tr>\n",
       "  </thead>\n",
       "  <tbody>\n",
       "    <tr>\n",
       "      <th>0</th>\n",
       "      <td>No staged files selected.</td>\n",
       "      <td>नहीं फ़ाइल चयनित.</td>\n",
       "      <td>नहीं फ़ाइल चयनित.</td>\n",
       "    </tr>\n",
       "    <tr>\n",
       "      <th>1</th>\n",
       "      <td>SMTP Server</td>\n",
       "      <td>एस एम टी पी सर्वर</td>\n",
       "      <td>एस एम टी पी सर्वर</td>\n",
       "    </tr>\n",
       "    <tr>\n",
       "      <th>2</th>\n",
       "      <td>Yes</td>\n",
       "      <td>हाँ</td>\n",
       "      <td>हाँ</td>\n",
       "    </tr>\n",
       "    <tr>\n",
       "      <th>3</th>\n",
       "      <td>Group</td>\n",
       "      <td>समूह</td>\n",
       "      <td>समूह</td>\n",
       "    </tr>\n",
       "    <tr>\n",
       "      <th>4</th>\n",
       "      <td>Stash</td>\n",
       "      <td>स्थिति</td>\n",
       "      <td>स्थिति</td>\n",
       "    </tr>\n",
       "    <tr>\n",
       "      <th>5</th>\n",
       "      <td>Go to symbol definition</td>\n",
       "      <td>जाएँ को परिभाषा</td>\n",
       "      <td>जाएँ को परिभाषा</td>\n",
       "    </tr>\n",
       "    <tr>\n",
       "      <th>6</th>\n",
       "      <td>Please specify group name</td>\n",
       "      <td>कृपया समूह नाम</td>\n",
       "      <td>कृपया समूह नाम</td>\n",
       "    </tr>\n",
       "    <tr>\n",
       "      <th>7</th>\n",
       "      <td>Search for \"% s\" reached top and was continued...</td>\n",
       "      <td>ढूंढें के लिए से. उपर और एट नीचे नहीं नया पाया.</td>\n",
       "      <td>ढूंढें के लिए से. उपर और एट नीचे नहीं नया पाया.</td>\n",
       "    </tr>\n",
       "    <tr>\n",
       "      <th>8</th>\n",
       "      <td>_ Selection</td>\n",
       "      <td>चयन (_ S)</td>\n",
       "      <td>चयन (_ S)</td>\n",
       "    </tr>\n",
       "    <tr>\n",
       "      <th>9</th>\n",
       "      <td>Keywords:</td>\n",
       "      <td>बीजशब्दः</td>\n",
       "      <td>बीजशब्दः</td>\n",
       "    </tr>\n",
       "  </tbody>\n",
       "</table>\n",
       "</div>"
      ],
      "text/plain": [
       "                                             English  \\\n",
       "0                          No staged files selected.   \n",
       "1                                        SMTP Server   \n",
       "2                                                Yes   \n",
       "3                                              Group   \n",
       "4                                              Stash   \n",
       "5                            Go to symbol definition   \n",
       "6                          Please specify group name   \n",
       "7  Search for \"% s\" reached top and was continued...   \n",
       "8                                        _ Selection   \n",
       "9                                          Keywords:   \n",
       "\n",
       "                                             Hindi  \\\n",
       "0                                नहीं फ़ाइल चयनित.   \n",
       "1                                एस एम टी पी सर्वर   \n",
       "2                                              हाँ   \n",
       "3                                             समूह   \n",
       "4                                           स्थिति   \n",
       "5                                  जाएँ को परिभाषा   \n",
       "6                                   कृपया समूह नाम   \n",
       "7  ढूंढें के लिए से. उपर और एट नीचे नहीं नया पाया.   \n",
       "8                                        चयन (_ S)   \n",
       "9                                         बीजशब्दः   \n",
       "\n",
       "                                           Original  \n",
       "0                                नहीं फ़ाइल चयनित.   \n",
       "1                                 एस एम टी पी सर्वर  \n",
       "2                                               हाँ  \n",
       "3                                              समूह  \n",
       "4                                            स्थिति  \n",
       "5                                   जाएँ को परिभाषा  \n",
       "6                                    कृपया समूह नाम  \n",
       "7  ढूंढें के लिए से. उपर और एट नीचे नहीं नया पाया.   \n",
       "8                                        चयन (_ S)   \n",
       "9                                          बीजशब्दः  "
      ]
     },
     "execution_count": 15,
     "metadata": {},
     "output_type": "execute_result"
    }
   ],
   "source": [
    "df=pd.read_csv(\"translations.csv\")\n",
    "df.head(10)"
   ]
  },
  {
   "cell_type": "code",
   "execution_count": 16,
   "metadata": {},
   "outputs": [],
   "source": [
    "eng=df['English'].astype(str)\n",
    "orig=df['Original'].astype(str)\n",
    "pred=df['Hindi'].astype(str)"
   ]
  },
  {
   "cell_type": "code",
   "execution_count": 17,
   "metadata": {},
   "outputs": [
    {
     "data": {
      "text/plain": [
       "0                            No staged files selected.\n",
       "1                                          SMTP Server\n",
       "2                                                  Yes\n",
       "3                                                Group\n",
       "4                                                Stash\n",
       "5                              Go to symbol definition\n",
       "6                            Please specify group name\n",
       "7    Search for \"% s\" reached top and was continued...\n",
       "8                                          _ Selection\n",
       "9                                            Keywords:\n",
       "Name: English, dtype: object"
      ]
     },
     "execution_count": 17,
     "metadata": {},
     "output_type": "execute_result"
    }
   ],
   "source": [
    "eng.head(10)"
   ]
  },
  {
   "cell_type": "code",
   "execution_count": 18,
   "metadata": {},
   "outputs": [
    {
     "data": {
      "text/plain": [
       "0                                  नहीं फ़ाइल चयनित. \n",
       "1                                   एस एम टी पी सर्वर\n",
       "2                                                 हाँ\n",
       "3                                                समूह\n",
       "4                                              स्थिति\n",
       "5                                     जाएँ को परिभाषा\n",
       "6                                      कृपया समूह नाम\n",
       "7    ढूंढें के लिए से. उपर और एट नीचे नहीं नया पाया. \n",
       "8                                          चयन (_ S) \n",
       "9                                            बीजशब्दः\n",
       "Name: Original, dtype: object"
      ]
     },
     "execution_count": 18,
     "metadata": {},
     "output_type": "execute_result"
    }
   ],
   "source": [
    "orig.head(10)"
   ]
  },
  {
   "cell_type": "code",
   "execution_count": 19,
   "metadata": {},
   "outputs": [
    {
     "data": {
      "text/plain": [
       "0                                  नहीं फ़ाइल चयनित.\n",
       "1                                  एस एम टी पी सर्वर\n",
       "2                                                हाँ\n",
       "3                                               समूह\n",
       "4                                             स्थिति\n",
       "5                                    जाएँ को परिभाषा\n",
       "6                                     कृपया समूह नाम\n",
       "7    ढूंढें के लिए से. उपर और एट नीचे नहीं नया पाया.\n",
       "8                                          चयन (_ S)\n",
       "9                                           बीजशब्दः\n",
       "Name: Hindi, dtype: object"
      ]
     },
     "execution_count": 19,
     "metadata": {},
     "output_type": "execute_result"
    }
   ],
   "source": [
    "pred.head(10)"
   ]
  },
  {
   "cell_type": "code",
   "execution_count": 20,
   "metadata": {},
   "outputs": [],
   "source": [
    "Jaccard_sim=[]\n",
    "sim_count=[0]*10\n",
    "ambiguous_eng=[]\n",
    "ambiguous_orig=[]\n",
    "ambiguous_pred=[]\n",
    "best=[]"
   ]
  },
  {
   "cell_type": "markdown",
   "metadata": {},
   "source": [
    "Jaccard Similarity"
   ]
  },
  {
   "cell_type": "code",
   "execution_count": 21,
   "metadata": {},
   "outputs": [
    {
     "name": "stdout",
     "output_type": "stream",
     "text": [
      "[211, 32, 37, 43, 13, 38, 26, 15, 6, 2579]\n"
     ]
    }
   ],
   "source": [
    "for i in range(len(df)):\n",
    "    words_orig=set(orig[i].lower().split())\n",
    "    words_pred=set(pred[i].lower().split())\n",
    "    intersection=words_orig.intersection(words_pred)\n",
    "    union=words_orig.union(words_pred)\n",
    "    sim=float(len(intersection)/len(union))\n",
    "    Jaccard_sim.append(sim)\n",
    "    index=int(sim*10)\n",
    "    if index==10 or index==9:\n",
    "        best.append(eng[i])\n",
    "        index=9\n",
    "    if index==0:\n",
    "        ambiguous_eng.append(eng[i])\n",
    "        ambiguous_orig.append(orig[i])\n",
    "        ambiguous_pred.append(pred[i])\n",
    "    sim_count[index]+=1\n",
    "print(sim_count)"
   ]
  },
  {
   "cell_type": "code",
   "execution_count": 22,
   "metadata": {},
   "outputs": [
    {
     "data": {
      "image/png": "[encoded data removed]",
      "text/plain": [
       "<Figure size 640x480 with 1 Axes>"
      ]
     },
     "metadata": {},
     "output_type": "display_data"
    }
   ],
   "source": [
    "x_labels = [f\"{i/10:.1f}-{(i+1)/10:.1f}\" for i in range(10)]\n",
    "x_positions = range(len(sim_count))\n",
    "plt.bar(x_positions, sim_count, align='center', alpha=0.7)\n",
    "plt.xticks(x_positions, x_labels, rotation='vertical')\n",
    "\n",
    "plt.xlabel('Jaccard Similarity Value')\n",
    "plt.ylabel('No. of Instances')\n",
    "plt.title('Jaccard Similarity Values for Test Data')\n",
    "plt.tight_layout()\n",
    "plt.show()"
   ]
  },
  {
   "cell_type": "code",
   "execution_count": 23,
   "metadata": {},
   "outputs": [
    {
     "name": "stdout",
     "output_type": "stream",
     "text": [
      "['[Invalid]', 'Start:% d', 'FAQ', '/ View / Sorting / Sort Descending', 'Say goodbye to the debugger', '_ Name:', 'Choose destination folder', 'Anjuta help search', '_ View Source', 'Version', '_ Sample action', 'Loading project:% s', 'Search', 'Generate Patch Series', '_ Header Font:', 'Search Variable', 'Session', 'Address', 'Search Help:', 'Browse…', 'Copy the selection', '_ View', 'Type:', '% s on reserve', 'Editor zoom operations', 'Man Documentation', 'FAQ', 'Four Foundations', 'Pass:', 'Unloaded', '_ Save', 'From:', 'Django Project information', 'Item', 'Hostname:', 'Five Foundations', 'Attachment', 'A shared or a static library project', 'Brasero is distributed in the hope that it will be useful, but WITHOUT ANY WARRANTY; without even the implied warranty of MERCHANTABILITY or FITNESS FOR A PARTICULAR PURPOSE. See the GNU General Public License for more details.', 'Xlib dock', '_ Import Tree', 'Select header file', 'Show kernel signals', 'Reply to _ All...', '_ Update', '_ Remove', '_ Remove…', 'Close Other', 'Unable to edit script', 'All Project Files', 'Reload F _ ile', 'Program to test:', 'Remove', 'Remove bookmark', 'Use _ TLS:', 'Relaying refused:% d:% s Message left in your outbox.', 'Choose file or directory to commit:', '_ Clear All Bookmarks', 'Tag _ Implementation', 'Include selected message (s)', 'SymbolDb menu actions', 'Stash Message (Optional)', 'DVD - RAM', 'GType', 'Could not get file info', 'From:', 'Sol', 'Parameters', 'Script Type', '_ Selected Headers', 'Next Help', \"Display the contents of kernel 'struct user' for current child\", 'reserve', '_ Editor', 'Icons only', 'File / Directory to patch', 'Breakpoint properties', '_ Update', 'Versioning…', 'Five Foundations', 'From:', 'Details', 'Replace With:', 'Remote', '/ _ ToDo', 'Select source file', 'Children', 'Appearance', 'Address:', 'Due date:', 'FAQ', 'Generic C + + Class', 'Macros...', 'Session', 'Add Watch', 'Message from% s:% s', 'Restore', '% d', 'Could not get file info', 'Patching...', 'Are you sure you want to remove the following from project?', 'Shortcut:% s', 'Do not show hidden files', 'Hostname:', '_ Code Fold Margin', 'Cherry pick', '[read - only]', 'Edit…', 'Hour', '_ Header', 'JavaScript Support Plugin', 'Reset...', 'File Filter', 'Regular Expression', 'ParamSpec', 'Diagonal', '[read - only]', 'Select Target to Profile', 'Cherry pick', 'CVS Plugin', 'CVS command options', '_ File', 'Enable line wrap', 'Failed to execute autogen:% s', '_ View', 'Today', 'Error closing project:% s', 'Blurb', 'Changes:', 'Profiling', 'does not exist', 'Configure', 'stock', 'Word wrap', 'Sample file operations', 'Score', 'Name:', 'Pa _ use Program', 'Git: Push complete.', 'Glade designer operations', 'Diff…', 'From% s:% d% s', '_ Clear', 'Anjuta Class Generator Plugin', 'General Project Infromation', '_ Update...', 'Autoformat style', 'Warning', 'Autogenerate project files', 'Language - specific commands:', '_ Replace', '<: Enter Here', 'Auto - purge completed items', 'Remote', 'Memory leaks', 'Select directory', 'Type:', 'Cut the selected text', 'n / a', '_ Username:', 'Warnings:', '_ View', 'Configure external packages:', 'Makefile backend', 'Info Documentation', 'Blurb', 'Notification', 'Python Source File', 'Select project type', 'Disabled', 'Fwd:', 'Unable to find any project template in% s', 'Highlight style', 'Patch Plugin', 'Tag De _ claration', '_ Korean', 'unknown error', 'No project loaded', '_ Hide paths', 'Attaching to process:% d…', 'Show tooltips', 'Profiling', 'Data module Makefile. am', 'cvs _ date', 'Indentation parameters', 'Optimization', 'Save _ As...', 'Brace indentation size in spaces:', 'Signature validity:% s', 'Xlib dock', 'First Name', 'Project Name:', 'Creating% s...% s', 'Reply...', '_ Attach', 'Top', 'Debug', 'No', 'Header:% s', 'Toggle a bookmark at the current line position', '_ Remove all', 'Default format', 'No themes found.', 'Cherry pick', 'Mailbox', 'Create new directories', 'stock', '_ Modify', 'Highlight', 'Remove bookmark', 'Quick Tips']\n",
      "['अवैध दिनांक', 'प्रारंभEnd', 'FAQ', '/ View/Todo List/Hide Completed Items', 'प्रोग्राम डिबगर के अंदर चलाएं', '#-#-#-#-#file-roller. gnome-2-2. hi. po (File Roller hindi) #-#-#-#-#नामः #-#-#-#-#gnome-desktop. HEAD. hi. po (gnome-desktop VERSION) #-#-#-#-#नाम: ', 'लछ्य (गन्तव्य स्थान) फोल्डर का चयन करें', 'अंजूटा हैल्प ब्राउजर', 'देखने का स्रोत', 'संस्करणः', 'नमूना क्रिया (_ S) ', 'प्रोजेक्ट खोलें', 'खोजें', 'Generate Patch Series', 'विषय शीर्षक का फान्ट', 'अनियत चौड़ाई', 'सत्र', 'एक नया सत्र जोड़ें', 'के लिए खोज', 'ब्राउज़... ', 'मौजूदा चयन', 'दृश्य _ (V) ', 'प्रकारः', 'एक खाली खाँचाstockslot hint', 'छैतिज पैमाना', 'दस्तावेज़', 'FAQ', 'चार मूलाधार', '#-#-#-#-#balsa. HEAD. hi. po (Balsa 2. x) #-#-#-#-#पासवर्ड #-#-#-#-#eel. HEAD. hi. po (eel VERSION) #-#-#-#-#पासवर्डः (_ P) #-#-#-#-#file-roller. gnome-2-2. hi. po (File Roller hindi) #-#-#-#-#गुपत अक्षर (_ P): ', 'मोड', '#-#-#-#-#balsa. HEAD. hi. po (Balsa 2. x) #-#-#-#-#बचाएं #-#-#-#-#gedit. gnome-2-2. hi. po (gedit VERSION) #-#-#-#-#संग्रहित करें #-#-#-#-#gtk +. gtk-2-2. hi. po (gtk22 VERSION) #-#-#-#-#संग्रहित करें #-#-#-#-#libgnomeui. HEAD. hi. po (libgnomeui HEAD) #-#-#-#-#संग्रहित करें', 'सेः', 'जानकारी', 'फ़ाइलों को जोडे', 'होस्टनामः', 'पाँच मूलाधार', 'अटेचमेंट', 'जेनेरिक Xlib प्रोजेक्ट', 'Brasero is distributed in the hope that it will be useful, but WITHOUT ANY WARRANTY; without even the implied warranty of MERCHANTABILITY or FITNESS FOR A PARTICULAR PURPOSE. See the GNU General Public License for more details. ', 'Xlib dock', 'प्रोजेक्ट खोलें', 'फाइल चयन करें', 'कर्नल', 'वर्तमान काल के संदेश तक उत्तर दें', '#-#-#-#-#balsa. HEAD. hi. po (Balsa 2. x) #-#-#-#-#अपडेट #-#-#-#-#gedit. gnome-2-2. hi. po (gedit VERSION) #-#-#-#-#अपडेट (अद्यतन) #-#-#-#-#gnome-applets. gnome-2-2. hi. po (gnome-applets 2. x) #-#-#-#-#अपडेट (अद्यतन) ', 'हटाओ', 'हटाएँ', 'अन्य', 'प्रोजेक्ट लोड करने में असमर्थ', 'Specify File List', 'फाइलनाम बदलें', 'श्रेणी', '#-#-#-#-#balsa. HEAD. hi. po (Balsa 2. x) #-#-#-#-#हटाओ #-#-#-#-#gnome-desktop. HEAD. hi. po (gnome-desktop VERSION) #-#-#-#-#हटाएं #-#-#-#-#gnome-session. HEAD. hi. po (gnome-session VERSION) #-#-#-#-#हटाएं #-#-#-#-#gnome-utils. gnome-2-2. hi. po (gnome-utils 2.0) #-#-#-#-#हटाओ #-#-#-#-#nautilus. HEAD. hi. po (nautilus 2. x) #-#-#-#-#हटाएँ', 'पुस्तकचिह्न हटाएँ', 'टी एल एस उपयोग करो', 'SMTP सर्वर में परेशानी (% d):% s मैसेज आउटबाक्स में छोड़ा है', 'डायरेक्टरी का निर्माण करें', 'बुकमार्क्स', 'नमूना क्रिया', 'संदेश जोड़ें', 'नमूना क्रिया', 'सत्र', 'डीवीडी-रैम', 'क़िस्म', '% s \",\" This file is too big. Unable to allocate memory. ', 'सेः', 'हल करें (_ v) ', 'पैरामीटर्सः', 'लिपि प्रकार', 'चुने हुए शीर्ष', 'अंश व्यू', 'प्रदर्शक अंतर्वस्तु का कर्नेल प्रयोक्ता के लिए संतति', 'आरक्षितslot type', 'एडीटर', 'आइकन फाइलः', 'फिल्टर का मिलान हुआ है', 'कड़ी की विशेषताएँ', 'अपडेट', 'संस्करणः', 'पाँच मूलाधार', 'यहाँ से', 'विकल्प', 'the search expression', 'रिमोट', 'टूल्स', 'सोर्सफोर्ज', 'खाली', 'प्रकटन', 'पता', '#-#-#-#-#balsa. HEAD. hi. po (Balsa 2. x) #-#-#-#-#दिनांक #-#-#-#-#gnome-utils. gnome-2-2. hi. po (gnome-utils 2.0) #-#-#-#-#तारीख', 'FAQ', 'सामान्य नाम', 'मेक्रो', 'सत्र', 'छोटि की फ़ाइल मे जोडे (_ t): ', 'नया संदेश', '#-#-#-#-#gtk +. gtk-2-2. hi. po (gtk22 VERSION) #-#-#-#-#व = द्धि (ऊंचाई) #-#-#-#-#libgnomecanvas. HEAD. hi. po (PACKAGE VERSION) #-#-#-#-#बढ़ाए', '% d% d \"in this string this to\"% Id% d% d%%%%% \"(U + 0025 PERCENT SIGN) you do NOT need to escape it with another\"% ', 'फाइल% s संग्रहित नहीं की जा सकीThis file is too big. Unable to allocate memory. ', 'ढूंढ रहा है... ', 'क्या आप निश्चित ही \"% s\" को ट्रेश से स्थायी तौर पर डिलीट करना चाहते हैं', 'शॉर्टकटः', 'कंसोल में छापें', 'होस्टनामः', 'दांया मार्जिन', 'Cherry pick', '[read-only] ', 'संपादन', 'रंग', 'शीर्ष', 'C + + और जावा सपोर्ट प्लगिन', 'रीसेट', 'ग्लेड फाइल', 'रेग्युलर एक्सप्रेशन', 'ParamSpec', 'डिजीटल1', '[read-only] ', 'अनियत चौड़ाई', 'Cherry pick', 'टैग लिस्ट प्लगइन', 'ध्वनि वर्यताएं', 'फाइल (F) ', 'सारणी', 'उपकरण पर लिखने में असमर्थ% s', 'दिखाएं', 'days', 'आइकान को लोड करने में त्रुटि% s', 'Blurb', 'मान बदलें', 'प्रोफाइलिंग', 'मेलबाक्स बन गया', 'कानफिगर (_ n) ', 'स्टाकslot type', 'शव्द', 'डिस्क के उन्नत विकल्पों को छुपाओ', 'सकोरः', 'नाम', 'अनुप्रयोग से बाहर जाएं', 'input widget', 'नमूना फाइल आपरेशन', 'Diff…', 'को जवाब दें', 'खाली', 'उत्पन्न करें', 'जानकारी', '#-#-#-#-#balsa. HEAD. hi. po (Balsa 2. x) #-#-#-#-#अपडेट #-#-#-#-#gedit. gnome-2-2. hi. po (gedit VERSION) #-#-#-#-#अपडेट (अद्यतन) #-#-#-#-#gnome-applets. gnome-2-2. hi. po (gnome-applets 2. x) #-#-#-#-#अपडेट (अद्यतन) ', 'फोन्ट स्टाइल', 'चेतावनीः', 'अंजूटा प्रोजेक्ट मैनेजर', 'चलाने लायक टेक्स्ट फाइल', '#-#-#-#-#gedit. gnome-2-2. hi. po (gedit VERSION) #-#-#-#-#बदलें/परिवर्तित करें #-#-#-#-#gtkhtml. HEAD. hi. po (GtkHTML 2. x) #-#-#-#-#बदलो #-#-#-#-#nautilus. HEAD. hi. po (nautilus 2. x) #-#-#-#-#बदलना', 'सिकुडि फ़ाइल को बडा करे', 'स्वतःपूर्णPurge items after% d days', 'रिमोट', 'मेमोरी', 'कार्य डायरेक्टरी', 'प्रकार', 'छाँटे गए मेलबाक्स का सम्पादन करें', 'nan', 'उपयोगकर्ता का नाम', 'चेतावनियां', 'दृश्य _ (V) ', 'बाल्सा को कान्फिगर करो', 'Makefiles', 'जानकारी', 'Blurb', 'सूचना', 'सोर्सफोर्ज', 'डैरक्टरी चुनो', 'अछम', 'अग्रेषित', 'प्रोजेक्ट लोड करने में असमर्थ', 'उभारें', 'वर्तमान फाइल संग्रहित करें', 'टैग', 'कोरियन', 'अनजानी गलती', 'प्रोजेक्ट नाम', 'हस्ताछर शामिल करो', 'प्रक्रिया में जोड़ें', 'टूलटिप प्रदर्शित करें', 'प्रोफाइलिंग', 'माॅड्यूल फाइल नाम', '#-#-#-#-#balsa. HEAD. hi. po (Balsa 2. x) #-#-#-#-#अपडेट #-#-#-#-#gedit. gnome-2-2. hi. po (gedit VERSION) #-#-#-#-#अपडेट (अद्यतन) #-#-#-#-#gnome-applets. gnome-2-2. hi. po (gnome-applets 2. x) #-#-#-#-#अपडेट (अद्यतन) ', 'हाशिया पैरामीटर', 'एनीमेशन', 'सभी को संग्रहित करें', 'परिभाषा खिड़की दिखाएं/छिपाएं... (_ S) ', 'उपयोगकर्ता', 'Xlib dock', 'पहला नामः', 'प्रोजेक्ट प्लान', 'समायोजन', 'उत्तर दें', 'जोड़ें', 'को', 'डिबग (खराबी दूर करें) ', '(नहीं', 'कोई हेडर नहीं', 'प्रस्तुत स्थिति के लिए बुकमार्क मीनू में जोड़ें', 'सबको हटाओ', 'पूर्वनिर्धारित (_ a) ', 'कोइ थीम नही मिला', 'Cherry pick', 'पत्र डालने का सन्दूक', 'एक नयी फाइल का निर्माण करें', 'स्टाकslot type', 'सुधार', 'उभारें', 'पुस्तकचिह्न हटाएँ', 'झटपट नुस्खे']\n",
      "['[BARG]', 'प्रारंभः% d', 'ACVSQ', '//View-2SUNTH/ क्रम में छाँटें', 'कहें को', 'नाम (_ N):', 'गंतव्य फ़ोल्डर चुनें', 'Anjuta मदद', 'श्रोत दिखाएं (_ V)', 'संस्करण', 'टैग लिस्ट प्लगइन', 'लोड हो रहा है से.', 'ढूंढें', 'Generies', 'शीर्षिका फ़ॉन्टः (_ F)', 'परिवर्तनीय', 'सबवर्सन', 'पता किताब', 'ढूंढें मददः', 'ब्राउज़', 'चयनित प्रतिलिपि करें', 'देखें (_ V)', 'क़िस्मः', '% sslot type', 'संपादक', 'मैन दस्तावेज़ीकरण', 'ACVSQ', 'न्यास', 'पासः', 'अनलोड', 'सहेजें (_ S)', 'द्वाराः', 'जैंगो परियोजना सूचना', 'वस्तु', 'उपयोक्ता नामः', 'न्यास', 'संलग्नक', 'A या a स्थिर', 'ब्रैसेरो को इस आशा से वितरित किया गया है कि यह उपयोगी होगा, लेकिन बिना किसी वारंटी के; यहां तक कि बिना किसी खास उद्देश्य के या किसी खास उद्देश्य के लिए फिटनेस की वारंटी के. GNU जनरल पब्लिक लाइसेंस को अधिक विस्तार के लिए देखें.', 'Xlibk', 'आयात ट्री', 'चुनें एक फ़ोल्डर', 'दिखाएँ कर्नेल संकेत', 'सबको जवाब दें... (_ A)', 'अद्यतन करें (_ U)', 'हटाएं (_ R)', 'मिटाएं... (_ R)', 'अन्यों को बन्द करें', 'को संपादन स्क्रिप्ट', 'सभी परियोजना फ़ाइलें', 'री-लोड एफ़', 'जाँचने के लिए प्रोग्रामः', 'हटाएँ', 'सभी मिटाएँ', 'TLS प्रयोग करेंः', 'अस्वीकृत किया जा रहा हैः d% s संदेश आपकी बाहरी डाक में छोड़ दिया है.', 'फ़ाइल या निर्देशिका को कमिट करने के लिए चुनेंः', 'साफ करें सभी पसंद', 'टैग इम्प्लीमेंटेशन', 'चुने गए संदेशों को शामिल करें (s)', 'मेन्यू', 'संदेश वैकल्पिक', 'डीवीडी-रोम', 'GType', 'फ़ाइल जानकारी पा नहीं सका', 'द्वाराः', 'सोल', 'पैरामीटर्स', 'स्क्रिप्ट क़िस्म', 'चयनित हेडर', 'अगला मदद', 'प्रस्तुत स्थिति के आखिरी अंशों को दिखाएँ', 'आरक्षित', 'संपादक', 'सिर्फ प्रतीक', 'फ़ाइल निर्देशिका को', 'ब्रेकपाइंट गुण', 'अद्यतन करें (_ U)', 'छापा जा रहा है...', 'न्यास', 'द्वाराः', 'विवरण', 'के साथ बदलेंः', 'हटाएँ', 'Toss _ New New New New New the New New New New New New New New New New Game', 'चुनें श्रोत फ़ाइल', 'शिशु', 'रूप', 'पताः', 'समाप्ति तिथिः', 'ACVSQ', 'Generic C + CVS प्लगिन', 'मेक्रोज़', 'सबवर्सन', 'जोड़ें निरीक्षण करें', '% s से संदेशः% s', 'बहाल करें', '% d d', 'फ़ाइल जानकारी पा नहीं सका', 'नहीं', 'को मिटाएँ अनुसरण कर रहा है से नहीं नहीं', 'शॉर्टकटः% s', 'नहीं छिपा हुआ फ़ाइल', 'उपयोक्ता नामः', 'कोड मोड़ें हाशिया', 'Cherryck', '[read-oll]', 'संपादन...', 'घंटा', 'शीर्षिका', 'जावास्क्रिप्ट समर्थन प्लगइन', 'रिसेट करें (_ R)', 'स्तर छोडें (_ l)', 'नियमित (रेगुलर) एक्सप्रेशन.', 'पैरामीटर्सः', 'तिर्यक', '[read-oll]', 'चुनें लक्ष्य को', 'Cherryck', 'CVS प्लगिन', 'सीवीएस कमांड विकल्प', 'फ़ाइल (_ F)', 'पंक्ति लपेटन सक्रिय करें', 'असफल को कार्यान्वित करें से.', 'देखें (_ V)', 'आज', 'त्रुटि से.', 'धुंधलाrb', 'परिवर्तनः', 'फुल टाइप किया जा रहा है', 'उपस्थित नहीं है', 'कॉन्फ़िगर', 'स्टाक', 'शब्द रैप', 'नमूना फाइल आपरेशन', 'अंक', 'नामः', 'प्रोग्राम रोकें', 'Git: पूरा दबाएँ.', 'डिबगर संचालन', 'Diff...', '% s सेः% s', 'साफ़ करें (_ C)', 'Anjuta वर्ग जनक प्लगिन', 'सामान्य प्रोजेक्ट', 'अद्यतन करें (_ U)', 'ध्वनि फार्मेट शैली', 'चेतावनी', 'खोलें फ़ाइल', 'भाषा विशेष कमांडः', 'बदलें (_ R)', 'पाने वाला चुनें', 'पूर्वनिर्धारित तरीका', 'हटाएँ', 'स्मृति रिसाव', 'डैरक्टरी चुनो', 'क़िस्मः', 'चयनित पाठ काटें', 'n/ a', 'उपयोक्ता नामः', 'चेतावनियाँः', 'देखें (_ V)', 'कॉन्फ़िगर संकुलः', 'मेकफाइल आधारित परियोजना', 'सूचना दस्तावेज़ीकरण', 'धुंधलाrb', 'अधिसूचना', 'पायथन स्रोत फ़ाइल', 'चुनें फ़ाइल क़िस्म', 'अक्षम', 'फिल्टरों को व्यवस्थित करें', 'को कोई इंच से.', 'सिलेक्शन के लिए हाइलाइट किया', 'पैच प्लगिन', 'स्थिर घोषणाओं को छोड़ दें', 'कोरियाई (_ B)', 'अज्ञात त्रुटि', 'नहीं लोड हो गया', 'पथ छुपाएँ (_ H)', 'को process d नहीं', 'औज़ार-पट्टी दिखाएँ', 'फुल टाइप किया जा रहा है', 'फाईल बनाओ', 'सीवीएस तारीख़', 'इंडेन्टेशन पैरामीटर्स', 'ऑप्टीमाइज़ेशन', 'ऐसे सहेजें... (_ A)...', 'आकार इंचः', 'हस्ताछर में एक्सिक्यूट करो', 'Xlibk', 'प्रथम नाम', 'परियोजना नामः', 'से. से.', 'जवाब...', 'संलग्न करें', 'ऊपर', 'दोषसुधार', 'नहीं', 'शीर्ष', 'टॉगल एट लकीर स्थिति', 'सभी हटाएँ (_ R)', 'डिफ़ॉल्ट फ़ॉर्मेट', 'कोई प्रसंग नहीं मिला.', 'Cherryck', 'मेलबाक्स', 'नया निर्देशिका बनाएँ', 'स्टाक', 'सुधारें (_ P)', 'सिलेक्शन के लिए हाइलाइट किया', 'सभी मिटाएँ', 'क्विक युक्ति']\n"
     ]
    }
   ],
   "source": [
    "print(ambiguous_eng)\n",
    "print(ambiguous_orig)\n",
    "print(ambiguous_pred)"
   ]
  },
  {
   "cell_type": "markdown",
   "metadata": {},
   "source": [
    "Cosine Similarity"
   ]
  },
  {
   "cell_type": "code",
   "execution_count": 24,
   "metadata": {},
   "outputs": [],
   "source": [
    "Cosine_sim=[]\n",
    "sim_count=[0]*10"
   ]
  },
  {
   "cell_type": "code",
   "execution_count": 25,
   "metadata": {},
   "outputs": [
    {
     "name": "stderr",
     "output_type": "stream",
     "text": [
      "/home/loki/.local/lib/python3.10/site-packages/sklearn/feature_extraction/text.py:525: UserWarning: The parameter 'token_pattern' will not be used since 'tokenizer' is not None'\n",
      "  warnings.warn(\n"
     ]
    },
    {
     "name": "stdout",
     "output_type": "stream",
     "text": [
      "[192, 12, 22, 16, 44, 21, 25, 46, 25, 2597]\n"
     ]
    }
   ],
   "source": [
    "for i in range(len(df)):\n",
    "    token_pred=nltk.word_tokenize(pred[i])\n",
    "    token_orig=nltk.word_tokenize(orig[i])\n",
    "    pre1=' '.join(token_pred)\n",
    "    pre2=' '.join(token_orig)\n",
    "    vectorizer=CountVectorizer(tokenizer=lambda text: text.split(),token_pattern='')\n",
    "    vectorizer_text=vectorizer.fit_transform([pre1,pre2])\n",
    "    sim=cosine_similarity(vectorizer_text)[0][1]\n",
    "    Cosine_sim.append(sim)\n",
    "    index=int(sim*10)\n",
    "    if index==10 or index==9:\n",
    "        index=9\n",
    "    sim_count[index]+=1\n",
    "print(sim_count)"
   ]
  },
  {
   "cell_type": "code",
   "execution_count": 26,
   "metadata": {},
   "outputs": [
    {
     "data": {
      "image/png": "[encoded data removed]",
      "text/plain": [
       "<Figure size 640x480 with 1 Axes>"
      ]
     },
     "metadata": {},
     "output_type": "display_data"
    }
   ],
   "source": [
    "x_labels = [f\"{i/10:.1f}-{(i+1)/10:.1f}\" for i in range(10)]\n",
    "x_positions = range(len(sim_count))\n",
    "plt.bar(x_positions, sim_count, align='center', alpha=0.7)\n",
    "plt.xticks(x_positions, x_labels, rotation='vertical')\n",
    "\n",
    "plt.xlabel('Cosine Similarity Value')\n",
    "plt.ylabel('No. of Instances')\n",
    "plt.title('Cosine Similarity Values for Test Data')\n",
    "plt.tight_layout()\n",
    "plt.show()"
   ]
  },
  {
   "cell_type": "markdown",
   "metadata": {},
   "source": [
    "BLUE Score"
   ]
  },
  {
   "cell_type": "code",
   "execution_count": 27,
   "metadata": {},
   "outputs": [
    {
     "name": "stdout",
     "output_type": "stream",
     "text": [
      "BLEU Score: 87.15%\n"
     ]
    }
   ],
   "source": [
    "references = []\n",
    "hypotheses = []\n",
    "\n",
    "for sentence in df[\"Hindi\"]:\n",
    "    hypotheses.append(str(sentence))\n",
    "\n",
    "for sentence in df[\"Original\"]:\n",
    "    references.append([str(sentence)])\n",
    "\n",
    "# Calculate BLEU score\n",
    "bleu_score = corpus_bleu(references, hypotheses)\n",
    "\n",
    "print(f'BLEU Score: {bleu_score * 100:.2f}%')"
   ]
  }
 ],
 "metadata": {
  "kernelspec": {
   "display_name": "Python 3",
   "language": "python",
   "name": "python3"
  },
  "language_info": {
   "codemirror_mode": {
    "name": "ipython",
    "version": 3
   },
   "file_extension": ".py",
   "mimetype": "text/x-python",
   "name": "python",
   "nbconvert_exporter": "python",
   "pygments_lexer": "ipython3",
   "version": "3.10.12"
  }
 },
 "nbformat": 4,
 "nbformat_minor": 2
}
